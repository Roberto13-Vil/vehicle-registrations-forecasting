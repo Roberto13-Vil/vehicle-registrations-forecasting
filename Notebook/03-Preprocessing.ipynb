{
 "cells": [
  {
   "cell_type": "markdown",
   "id": "0de7cc64",
   "metadata": {},
   "source": [
    "# Preprocessing"
   ]
  },
  {
   "cell_type": "code",
   "execution_count": 5,
   "id": "d3436baa",
   "metadata": {},
   "outputs": [],
   "source": [
    "# Standardize time series data\n",
    "from sklearn.preprocessing import StandardScaler\n",
    "import pandas as pd\n",
    "from math import sqrt\n",
    "import joblib"
   ]
  },
  {
   "cell_type": "code",
   "execution_count": 2,
   "id": "bb85bbfe",
   "metadata": {},
   "outputs": [
    {
     "name": "stdout",
     "output_type": "stream",
     "text": [
      "Values saved for column: Auto Public\n",
      "Values saved for column: Auto Private\n",
      "Values saved for column: Passenger Truck Public\n",
      "Values saved for column: Passenger Truck Private\n",
      "Values saved for column: Cargo Public\n",
      "Values saved for column: Cargo Private\n",
      "Values saved for column: Total\n"
     ]
    }
   ],
   "source": [
    "# Prepare data for standardization\n",
    "data = pd.read_parquet('../Data/vizu.parquet')\n",
    "\n",
    "values = {}\n",
    "for col in data.columns:\n",
    "    print(f'Values saved for column: {col.replace(\"_\", \" \").title()}')\n",
    "    values[col] = data[col].values.reshape(-1, 1)"
   ]
  },
  {
   "cell_type": "code",
   "execution_count": 4,
   "id": "ae6e869c",
   "metadata": {},
   "outputs": [
    {
     "name": "stdout",
     "output_type": "stream",
     "text": [
      "StandardScaler trained for column: Auto Public\n",
      "Mean: 477197.66, Std: 153676.69\n",
      "\n",
      "StandardScaler trained for column: Auto Private\n",
      "Mean: 19161572.37, Std: 10394363.29\n",
      "\n",
      "StandardScaler trained for column: Passenger Truck Public\n",
      "Mean: 147420.89, Std: 65700.66\n",
      "\n",
      "StandardScaler trained for column: Passenger Truck Private\n",
      "Mean: 167539.25, Std: 133138.25\n",
      "\n",
      "StandardScaler trained for column: Cargo Public\n",
      "Mean: 122097.01, Std: 31100.21\n",
      "\n",
      "StandardScaler trained for column: Cargo Private\n",
      "Mean: 7442361.08, Std: 2960105.36\n",
      "\n",
      "StandardScaler trained for column: Total\n",
      "Mean: 27518188.26, Std: 13630623.76\n",
      "\n"
     ]
    }
   ],
   "source": [
    "# Train the standardization\n",
    "scaler = {}\n",
    "\n",
    "for col in data.columns:\n",
    "    print(f'StandardScaler trained for column: {col.replace(\"_\", \" \").title()}')\n",
    "    scaler[col] = StandardScaler().fit(values[col])\n",
    "    print(f'Mean: {scaler[col].mean_[0]:.2f}, Std: {sqrt(scaler[col].var_[0]):.2f}\\n')"
   ]
  },
  {
   "cell_type": "code",
   "execution_count": 12,
   "id": "52a12ec0",
   "metadata": {},
   "outputs": [
    {
     "name": "stdout",
     "output_type": "stream",
     "text": [
      "Transforming data for column: Auto Public\n",
      "Transforming data for column: Auto Private\n",
      "Transforming data for column: Passenger Truck Public\n",
      "Transforming data for column: Passenger Truck Private\n",
      "Transforming data for column: Cargo Public\n",
      "Transforming data for column: Cargo Private\n",
      "Transforming data for column: Total\n"
     ]
    },
    {
     "data": {
      "text/html": [
       "<div>\n",
       "<style scoped>\n",
       "    .dataframe tbody tr th:only-of-type {\n",
       "        vertical-align: middle;\n",
       "    }\n",
       "\n",
       "    .dataframe tbody tr th {\n",
       "        vertical-align: top;\n",
       "    }\n",
       "\n",
       "    .dataframe thead th {\n",
       "        text-align: right;\n",
       "    }\n",
       "</style>\n",
       "<table border=\"1\" class=\"dataframe\">\n",
       "  <thead>\n",
       "    <tr style=\"text-align: right;\">\n",
       "      <th></th>\n",
       "      <th>auto_public</th>\n",
       "      <th>auto_private</th>\n",
       "      <th>passenger_truck_public</th>\n",
       "      <th>passenger_truck_private</th>\n",
       "      <th>cargo_public</th>\n",
       "      <th>cargo_private</th>\n",
       "      <th>total</th>\n",
       "    </tr>\n",
       "  </thead>\n",
       "  <tbody>\n",
       "    <tr>\n",
       "      <th>408</th>\n",
       "      <td>1.463406</td>\n",
       "      <td>1.808157</td>\n",
       "      <td>4.289715</td>\n",
       "      <td>4.136525</td>\n",
       "      <td>0.210738</td>\n",
       "      <td>1.539774</td>\n",
       "      <td>1.791301</td>\n",
       "    </tr>\n",
       "    <tr>\n",
       "      <th>45</th>\n",
       "      <td>-1.144212</td>\n",
       "      <td>-1.172326</td>\n",
       "      <td>-1.154934</td>\n",
       "      <td>-0.982064</td>\n",
       "      <td>-1.181761</td>\n",
       "      <td>-1.332481</td>\n",
       "      <td>-1.214111</td>\n",
       "    </tr>\n",
       "    <tr>\n",
       "      <th>42</th>\n",
       "      <td>-1.110413</td>\n",
       "      <td>-1.160760</td>\n",
       "      <td>-1.226668</td>\n",
       "      <td>-1.000263</td>\n",
       "      <td>-1.184783</td>\n",
       "      <td>-1.333785</td>\n",
       "      <td>-1.205723</td>\n",
       "    </tr>\n",
       "    <tr>\n",
       "      <th>240</th>\n",
       "      <td>0.230974</td>\n",
       "      <td>0.146429</td>\n",
       "      <td>-0.066512</td>\n",
       "      <td>0.010153</td>\n",
       "      <td>1.341759</td>\n",
       "      <td>0.457765</td>\n",
       "      <td>0.216518</td>\n",
       "    </tr>\n",
       "    <tr>\n",
       "      <th>273</th>\n",
       "      <td>0.528007</td>\n",
       "      <td>0.464809</td>\n",
       "      <td>0.134125</td>\n",
       "      <td>0.148227</td>\n",
       "      <td>1.591275</td>\n",
       "      <td>0.660520</td>\n",
       "      <td>0.509572</td>\n",
       "    </tr>\n",
       "  </tbody>\n",
       "</table>\n",
       "</div>"
      ],
      "text/plain": [
       "     auto_public  auto_private  passenger_truck_public  \\\n",
       "408     1.463406      1.808157                4.289715   \n",
       "45     -1.144212     -1.172326               -1.154934   \n",
       "42     -1.110413     -1.160760               -1.226668   \n",
       "240     0.230974      0.146429               -0.066512   \n",
       "273     0.528007      0.464809                0.134125   \n",
       "\n",
       "     passenger_truck_private  cargo_public  cargo_private     total  \n",
       "408                 4.136525      0.210738       1.539774  1.791301  \n",
       "45                 -0.982064     -1.181761      -1.332481 -1.214111  \n",
       "42                 -1.000263     -1.184783      -1.333785 -1.205723  \n",
       "240                 0.010153      1.341759       0.457765  0.216518  \n",
       "273                 0.148227      1.591275       0.660520  0.509572  "
      ]
     },
     "execution_count": 12,
     "metadata": {},
     "output_type": "execute_result"
    }
   ],
   "source": [
    "# Transform the data\n",
    "scaled_data = {}\n",
    "\n",
    "for col in data.columns:\n",
    "    print(f'Transforming data for column: {col.replace('_', ' ').title()}')\n",
    "    scaled_data[col] = scaler[col].transform(values[col]).flatten()\n",
    "\n",
    "transformed_data = pd.DataFrame(scaled_data)\n",
    "transformed_data.sample(5)"
   ]
  },
  {
   "cell_type": "code",
   "execution_count": 6,
   "id": "0e867dc1",
   "metadata": {},
   "outputs": [],
   "source": [
    "# Save the scalers\n",
    "for col in data.columns:\n",
    "    joblib.dump(scaler[col], f'../Outputs/Models/scaler_{col}.save')"
   ]
  },
  {
   "cell_type": "code",
   "execution_count": 13,
   "id": "5916a834",
   "metadata": {},
   "outputs": [],
   "source": [
    "# Save tha transformed data\n",
    "transformed_data.to_parquet('../Data/transformed_data.parquet')"
   ]
  }
 ],
 "metadata": {
  "kernelspec": {
   "display_name": "vehicle-registrations-forecasting",
   "language": "python",
   "name": "python3"
  },
  "language_info": {
   "codemirror_mode": {
    "name": "ipython",
    "version": 3
   },
   "file_extension": ".py",
   "mimetype": "text/x-python",
   "name": "python",
   "nbconvert_exporter": "python",
   "pygments_lexer": "ipython3",
   "version": "3.13.3"
  }
 },
 "nbformat": 4,
 "nbformat_minor": 5
}
