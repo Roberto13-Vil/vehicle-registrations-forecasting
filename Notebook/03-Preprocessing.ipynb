{
 "cells": [
  {
   "cell_type": "markdown",
   "id": "0de7cc64",
   "metadata": {},
   "source": [
    "# Preprocessing"
   ]
  },
  {
   "cell_type": "code",
   "execution_count": 1,
   "id": "cb8fd98d",
   "metadata": {},
   "outputs": [],
   "source": [
    "import pandas as pd\n",
    "import numpy as np\n",
    "from sklearn.preprocessing import StandardScaler\n",
    "import joblib\n",
    "import os"
   ]
  },
  {
   "cell_type": "code",
   "execution_count": 2,
   "id": "fe06df4d",
   "metadata": {},
   "outputs": [
    {
     "data": {
      "text/plain": [
       "dict_keys(['Auto Public', 'Auto Private', 'Passenger Truck Public', 'Passenger Truck Private', 'Cargo Public', 'Cargo Private', 'Total'])"
      ]
     },
     "execution_count": 2,
     "metadata": {},
     "output_type": "execute_result"
    }
   ],
   "source": [
    "df = pd.read_parquet('../Data/vizu.parquet')\n",
    "data = {\n",
    "    column.replace('_', ' ').title():df[column].rename(column.replace('_', ' ').title()) \n",
    "    for column in df.columns\n",
    "}\n",
    "data.keys()"
   ]
  },
  {
   "cell_type": "markdown",
   "id": "626e6d20",
   "metadata": {},
   "source": [
    "## Standardize time series data"
   ]
  },
  {
   "cell_type": "code",
   "execution_count": 3,
   "id": "d2f66733",
   "metadata": {},
   "outputs": [],
   "source": [
    "scaler_dir = '../Outputs/Models/Scalers'\n",
    "os.makedirs(scaler_dir, exist_ok=True)\n",
    "\n",
    "scalers = {\n",
    "    key:StandardScaler().fit(data[key].values.reshape(-1,1)) \n",
    "    for key in data.keys()\n",
    "}\n",
    "for key in scalers.keys():\n",
    "    joblib.dump(scalers[key], os.path.join(scaler_dir, f'scaler_{key.replace(\" \", \"_\").lower()}.save'))\n",
    "\n",
    "data_scaled = {\n",
    "    key:pd.DataFrame(\n",
    "        scalers[key].transform(data[key].values.reshape(-1,1)).flatten().reshape(-1, 1), \n",
    "        index=data[key].index, \n",
    "        columns=[key]\n",
    "    ) \n",
    "    for key in data.keys()\n",
    "}"
   ]
  },
  {
   "cell_type": "markdown",
   "id": "f769ba22",
   "metadata": {},
   "source": [
    "## Date Time Feature"
   ]
  },
  {
   "cell_type": "code",
   "execution_count": 4,
   "id": "90af908c",
   "metadata": {},
   "outputs": [
    {
     "name": "stdout",
     "output_type": "stream",
     "text": [
      "Index(['Registers_scaled', 'Year', 'Month', 'Quarter', 'Month_sin',\n",
      "       'Month_cos'],\n",
      "      dtype='object')\n",
      "Index(['Registers_scaled', 'Year', 'Month', 'Quarter', 'Month_sin',\n",
      "       'Month_cos'],\n",
      "      dtype='object')\n",
      "Index(['Registers_scaled', 'Year', 'Month', 'Quarter', 'Month_sin',\n",
      "       'Month_cos'],\n",
      "      dtype='object')\n",
      "Index(['Registers_scaled', 'Year', 'Month', 'Quarter', 'Month_sin',\n",
      "       'Month_cos'],\n",
      "      dtype='object')\n",
      "Index(['Registers_scaled', 'Year', 'Month', 'Quarter', 'Month_sin',\n",
      "       'Month_cos'],\n",
      "      dtype='object')\n",
      "Index(['Registers_scaled', 'Year', 'Month', 'Quarter', 'Month_sin',\n",
      "       'Month_cos'],\n",
      "      dtype='object')\n",
      "Index(['Registers_scaled', 'Year', 'Month', 'Quarter', 'Month_sin',\n",
      "       'Month_cos'],\n",
      "      dtype='object')\n"
     ]
    }
   ],
   "source": [
    "for key in data_scaled.keys():\n",
    "    df = data_scaled[key]\n",
    "\n",
    "    df.rename(columns={key: 'Registers_scaled'}, inplace=True)\n",
    "\n",
    "    df['Year'] = df.index.year\n",
    "    df['Month'] = df.index.month\n",
    "    df['Quarter'] = df.index.quarter\n",
    "\n",
    "    df['Month_sin'] = np.sin(2 * np.pi * df['Month']/12)\n",
    "    df['Month_cos'] = np.cos(2 * np.pi * df['Month']/12)\n",
    "\n",
    "    print(df.columns)\n",
    "    data_scaled[key] = df"
   ]
  },
  {
   "cell_type": "markdown",
   "id": "b627d1db",
   "metadata": {},
   "source": [
    "## Lag Feature and Window Feature"
   ]
  },
  {
   "cell_type": "code",
   "execution_count": 5,
   "id": "9c1f8ae9",
   "metadata": {},
   "outputs": [
    {
     "name": "stdout",
     "output_type": "stream",
     "text": [
      "Index(['Registers_scaled', 'Year', 'Month', 'Quarter', 'Month_sin',\n",
      "       'Month_cos', 'Lag_1', 'Lag_3', 'Lag_6', 'Lag_9', 'Lag_12'],\n",
      "      dtype='object')\n",
      "Index(['Registers_scaled', 'Year', 'Month', 'Quarter', 'Month_sin',\n",
      "       'Month_cos', 'Lag_1', 'Lag_3', 'Lag_6', 'Lag_9', 'Lag_12'],\n",
      "      dtype='object')\n",
      "Index(['Registers_scaled', 'Year', 'Month', 'Quarter', 'Month_sin',\n",
      "       'Month_cos', 'Lag_1', 'Lag_3', 'Lag_6', 'Lag_9', 'Lag_12'],\n",
      "      dtype='object')\n",
      "Index(['Registers_scaled', 'Year', 'Month', 'Quarter', 'Month_sin',\n",
      "       'Month_cos', 'Lag_1', 'Lag_3', 'Lag_6', 'Lag_9', 'Lag_12'],\n",
      "      dtype='object')\n",
      "Index(['Registers_scaled', 'Year', 'Month', 'Quarter', 'Month_sin',\n",
      "       'Month_cos', 'Lag_1', 'Lag_3', 'Lag_6', 'Lag_9', 'Lag_12'],\n",
      "      dtype='object')\n",
      "Index(['Registers_scaled', 'Year', 'Month', 'Quarter', 'Month_sin',\n",
      "       'Month_cos', 'Lag_1', 'Lag_3', 'Lag_6', 'Lag_9', 'Lag_12'],\n",
      "      dtype='object')\n",
      "Index(['Registers_scaled', 'Year', 'Month', 'Quarter', 'Month_sin',\n",
      "       'Month_cos', 'Lag_1', 'Lag_3', 'Lag_6', 'Lag_9', 'Lag_12'],\n",
      "      dtype='object')\n"
     ]
    }
   ],
   "source": [
    "for key in data_scaled.keys():\n",
    "    df = data_scaled[key]\n",
    "\n",
    "    for lag in [1, 3, 6, 9, 12]:\n",
    "        df[f'Lag_{lag}'] = df['Registers_scaled'].shift(lag)\n",
    "    \n",
    "    print(df.columns)\n",
    "    data_scaled[key] = df"
   ]
  },
  {
   "cell_type": "markdown",
   "id": "45e4ce24",
   "metadata": {},
   "source": [
    "## Rolling Window Statistics"
   ]
  },
  {
   "cell_type": "code",
   "execution_count": 6,
   "id": "2f81a65f",
   "metadata": {},
   "outputs": [
    {
     "name": "stdout",
     "output_type": "stream",
     "text": [
      "Index(['Registers_scaled', 'Year', 'Month', 'Quarter', 'Month_sin',\n",
      "       'Month_cos', 'Lag_1', 'Lag_3', 'Lag_6', 'Lag_9', 'Lag_12',\n",
      "       'RollingMean_3', 'RollingStd_3', 'RollingMin_3', 'RollingMax_3',\n",
      "       'RollingMean_6', 'RollingStd_6', 'RollingMin_6', 'RollingMax_6',\n",
      "       'RollingMean_12', 'RollingStd_12', 'RollingMin_12', 'RollingMax_12'],\n",
      "      dtype='object')\n",
      "Index(['Registers_scaled', 'Year', 'Month', 'Quarter', 'Month_sin',\n",
      "       'Month_cos', 'Lag_1', 'Lag_3', 'Lag_6', 'Lag_9', 'Lag_12',\n",
      "       'RollingMean_3', 'RollingStd_3', 'RollingMin_3', 'RollingMax_3',\n",
      "       'RollingMean_6', 'RollingStd_6', 'RollingMin_6', 'RollingMax_6',\n",
      "       'RollingMean_12', 'RollingStd_12', 'RollingMin_12', 'RollingMax_12'],\n",
      "      dtype='object')\n",
      "Index(['Registers_scaled', 'Year', 'Month', 'Quarter', 'Month_sin',\n",
      "       'Month_cos', 'Lag_1', 'Lag_3', 'Lag_6', 'Lag_9', 'Lag_12',\n",
      "       'RollingMean_3', 'RollingStd_3', 'RollingMin_3', 'RollingMax_3',\n",
      "       'RollingMean_6', 'RollingStd_6', 'RollingMin_6', 'RollingMax_6',\n",
      "       'RollingMean_12', 'RollingStd_12', 'RollingMin_12', 'RollingMax_12'],\n",
      "      dtype='object')\n",
      "Index(['Registers_scaled', 'Year', 'Month', 'Quarter', 'Month_sin',\n",
      "       'Month_cos', 'Lag_1', 'Lag_3', 'Lag_6', 'Lag_9', 'Lag_12',\n",
      "       'RollingMean_3', 'RollingStd_3', 'RollingMin_3', 'RollingMax_3',\n",
      "       'RollingMean_6', 'RollingStd_6', 'RollingMin_6', 'RollingMax_6',\n",
      "       'RollingMean_12', 'RollingStd_12', 'RollingMin_12', 'RollingMax_12'],\n",
      "      dtype='object')\n",
      "Index(['Registers_scaled', 'Year', 'Month', 'Quarter', 'Month_sin',\n",
      "       'Month_cos', 'Lag_1', 'Lag_3', 'Lag_6', 'Lag_9', 'Lag_12',\n",
      "       'RollingMean_3', 'RollingStd_3', 'RollingMin_3', 'RollingMax_3',\n",
      "       'RollingMean_6', 'RollingStd_6', 'RollingMin_6', 'RollingMax_6',\n",
      "       'RollingMean_12', 'RollingStd_12', 'RollingMin_12', 'RollingMax_12'],\n",
      "      dtype='object')\n",
      "Index(['Registers_scaled', 'Year', 'Month', 'Quarter', 'Month_sin',\n",
      "       'Month_cos', 'Lag_1', 'Lag_3', 'Lag_6', 'Lag_9', 'Lag_12',\n",
      "       'RollingMean_3', 'RollingStd_3', 'RollingMin_3', 'RollingMax_3',\n",
      "       'RollingMean_6', 'RollingStd_6', 'RollingMin_6', 'RollingMax_6',\n",
      "       'RollingMean_12', 'RollingStd_12', 'RollingMin_12', 'RollingMax_12'],\n",
      "      dtype='object')\n",
      "Index(['Registers_scaled', 'Year', 'Month', 'Quarter', 'Month_sin',\n",
      "       'Month_cos', 'Lag_1', 'Lag_3', 'Lag_6', 'Lag_9', 'Lag_12',\n",
      "       'RollingMean_3', 'RollingStd_3', 'RollingMin_3', 'RollingMax_3',\n",
      "       'RollingMean_6', 'RollingStd_6', 'RollingMin_6', 'RollingMax_6',\n",
      "       'RollingMean_12', 'RollingStd_12', 'RollingMin_12', 'RollingMax_12'],\n",
      "      dtype='object')\n"
     ]
    }
   ],
   "source": [
    "windows = [3, 6, 12]\n",
    "\n",
    "for key in data_scaled.keys():\n",
    "    df = data_scaled[key]\n",
    "    for window in windows:\n",
    "        df[f'RollingMean_{window}'] = df['Registers_scaled'].rolling(window=window).mean()\n",
    "        df[f'RollingStd_{window}'] = df['Registers_scaled'].rolling(window=window).std()\n",
    "        df[f'RollingMin_{window}'] = df['Registers_scaled'].rolling(window=window).min()\n",
    "        df[f'RollingMax_{window}'] = df['Registers_scaled'].rolling(window=window).max()\n",
    "    print(df.columns)\n",
    "    data_scaled[key] = df"
   ]
  },
  {
   "cell_type": "markdown",
   "id": "9420d5f3",
   "metadata": {},
   "source": [
    "## Exapanding Window Statistics"
   ]
  },
  {
   "cell_type": "code",
   "execution_count": 7,
   "id": "8e03b466",
   "metadata": {},
   "outputs": [],
   "source": [
    "for key in data_scaled.keys():\n",
    "    df = data_scaled[key]\n",
    "\n",
    "    df['ExpandingMean'] = df['Registers_scaled'].expanding().mean()\n",
    "    df['ExpandingStd'] = df['Registers_scaled'].expanding().std()\n",
    "    df['ExpandingMin'] = df['Registers_scaled'].expanding().min()\n",
    "    df['ExpandingMax'] = df['Registers_scaled'].expanding().max()\n",
    "    \n",
    "    data_scaled[key] = df"
   ]
  },
  {
   "cell_type": "markdown",
   "id": "5aecab64",
   "metadata": {},
   "source": [
    "## Saved Preprocessing data"
   ]
  },
  {
   "cell_type": "code",
   "execution_count": 8,
   "id": "8e31bdb0",
   "metadata": {},
   "outputs": [
    {
     "name": "stdout",
     "output_type": "stream",
     "text": [
      "Processed data for Auto Public saved to ../Data/Processed/processed_auto_public.parquet\n",
      "Processed data for Auto Private saved to ../Data/Processed/processed_auto_private.parquet\n",
      "Processed data for Passenger Truck Public saved to ../Data/Processed/processed_passenger_truck_public.parquet\n",
      "Processed data for Passenger Truck Private saved to ../Data/Processed/processed_passenger_truck_private.parquet\n",
      "Processed data for Cargo Public saved to ../Data/Processed/processed_cargo_public.parquet\n",
      "Processed data for Cargo Private saved to ../Data/Processed/processed_cargo_private.parquet\n",
      "Processed data for Total saved to ../Data/Processed/processed_total.parquet\n"
     ]
    }
   ],
   "source": [
    "os.makedirs('../Data/Processed', exist_ok=True)\n",
    "for key in data_scaled.keys():\n",
    "    df = data_scaled[key]\n",
    "    df.to_parquet(f'../Data/Processed/processed_{key.replace(\" \", \"_\").lower()}.parquet')\n",
    "    print(f'Processed data for {key} saved to ../Data/Processed/processed_{key.replace(\" \", \"_\").lower()}.parquet')"
   ]
  }
 ],
 "metadata": {
  "kernelspec": {
   "display_name": "vehicle-registrations-forecasting",
   "language": "python",
   "name": "python3"
  },
  "language_info": {
   "codemirror_mode": {
    "name": "ipython",
    "version": 3
   },
   "file_extension": ".py",
   "mimetype": "text/x-python",
   "name": "python",
   "nbconvert_exporter": "python",
   "pygments_lexer": "ipython3",
   "version": "3.13.3"
  }
 },
 "nbformat": 4,
 "nbformat_minor": 5
}
