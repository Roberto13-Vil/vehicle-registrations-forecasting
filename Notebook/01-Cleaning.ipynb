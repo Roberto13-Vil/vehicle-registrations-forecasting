{
 "cells": [
  {
   "cell_type": "markdown",
   "id": "f33190a3",
   "metadata": {},
   "source": [
    "# Cleaning Data"
   ]
  },
  {
   "cell_type": "code",
   "execution_count": 1,
   "id": "e1bad437",
   "metadata": {},
   "outputs": [],
   "source": [
    "import pandas as pd\n",
    "from pandas.tseries.offsets import MonthEnd"
   ]
  },
  {
   "cell_type": "code",
   "execution_count": 2,
   "id": "4f6ed5e8",
   "metadata": {},
   "outputs": [
    {
     "name": "stdout",
     "output_type": "stream",
     "text": [
      "<class 'pandas.core.frame.DataFrame'>\n",
      "RangeIndex: 415 entries, 0 to 414\n",
      "Data columns (total 11 columns):\n",
      " #   Column                Non-Null Count  Dtype \n",
      "---  ------                --------------  ----- \n",
      " 0   PROD_EST              415 non-null    object\n",
      " 1   COBERTURA             415 non-null    object\n",
      " 2   ANIO                  415 non-null    int64 \n",
      " 3   ID_MES                415 non-null    int64 \n",
      " 4   AUTO_PUBLICO          415 non-null    int64 \n",
      " 5   AUTO_PARTICULAR       415 non-null    int64 \n",
      " 6   CAM_PAS_PUBLICO       415 non-null    int64 \n",
      " 7   CAM_PAS_PARTICULAR    415 non-null    int64 \n",
      " 8   CYC_CARGA_PUBLICO     415 non-null    int64 \n",
      " 9   CYC_CARGA_PARTICULAR  415 non-null    int64 \n",
      " 10  ESTATUS               415 non-null    object\n",
      "dtypes: int64(8), object(3)\n",
      "memory usage: 35.8+ KB\n"
     ]
    }
   ],
   "source": [
    "df = pd.read_csv('../Data/raw.csv')\n",
    "df.info()"
   ]
  },
  {
   "cell_type": "code",
   "execution_count": 3,
   "id": "b0cfd8bc",
   "metadata": {},
   "outputs": [
    {
     "data": {
      "text/plain": [
       "PROD_EST                  1\n",
       "COBERTURA                 1\n",
       "ANIO                     35\n",
       "ID_MES                   12\n",
       "AUTO_PUBLICO            415\n",
       "AUTO_PARTICULAR         415\n",
       "CAM_PAS_PUBLICO         415\n",
       "CAM_PAS_PARTICULAR      415\n",
       "CYC_CARGA_PUBLICO       415\n",
       "CYC_CARGA_PARTICULAR    415\n",
       "ESTATUS                   2\n",
       "dtype: int64"
      ]
     },
     "execution_count": 3,
     "metadata": {},
     "output_type": "execute_result"
    }
   ],
   "source": [
    "df.nunique()"
   ]
  },
  {
   "cell_type": "code",
   "execution_count": 4,
   "id": "ffd95d93",
   "metadata": {},
   "outputs": [],
   "source": [
    "df['FECHA'] = pd.to_datetime(df['ANIO'].astype(str) + '-' + df['ID_MES'].astype(str) + '-01') + MonthEnd(0)\n",
    "df = df.drop(columns=['ANIO', 'ID_MES', 'PROD_EST', 'COBERTURA', 'ESTATUS'], axis=1)\n",
    "df = df.sort_values('FECHA')\n",
    "df = df.set_index('FECHA')\n",
    "df = df.asfreq('ME')\n",
    "df['TOTAL'] = df.sum(axis=1)"
   ]
  },
  {
   "cell_type": "code",
   "execution_count": 5,
   "id": "d22823bf",
   "metadata": {},
   "outputs": [
    {
     "name": "stdout",
     "output_type": "stream",
     "text": [
      "<class 'pandas.core.frame.DataFrame'>\n",
      "DatetimeIndex: 415 entries, 1991-01-31 to 2025-07-31\n",
      "Freq: ME\n",
      "Data columns (total 7 columns):\n",
      " #   Column                Non-Null Count  Dtype\n",
      "---  ------                --------------  -----\n",
      " 0   AUTO_PUBLICO          415 non-null    int64\n",
      " 1   AUTO_PARTICULAR       415 non-null    int64\n",
      " 2   CAM_PAS_PUBLICO       415 non-null    int64\n",
      " 3   CAM_PAS_PARTICULAR    415 non-null    int64\n",
      " 4   CYC_CARGA_PUBLICO     415 non-null    int64\n",
      " 5   CYC_CARGA_PARTICULAR  415 non-null    int64\n",
      " 6   TOTAL                 415 non-null    int64\n",
      "dtypes: int64(7)\n",
      "memory usage: 25.9 KB\n"
     ]
    }
   ],
   "source": [
    "df.info()"
   ]
  },
  {
   "cell_type": "code",
   "execution_count": 6,
   "id": "2d9114a7",
   "metadata": {},
   "outputs": [
    {
     "data": {
      "text/plain": [
       "AUTO_PUBLICO            415\n",
       "AUTO_PARTICULAR         415\n",
       "CAM_PAS_PUBLICO         415\n",
       "CAM_PAS_PARTICULAR      415\n",
       "CYC_CARGA_PUBLICO       415\n",
       "CYC_CARGA_PARTICULAR    415\n",
       "TOTAL                   415\n",
       "dtype: int64"
      ]
     },
     "execution_count": 6,
     "metadata": {},
     "output_type": "execute_result"
    }
   ],
   "source": [
    "df.nunique()"
   ]
  },
  {
   "cell_type": "code",
   "execution_count": 7,
   "id": "7922fff3",
   "metadata": {},
   "outputs": [],
   "source": [
    "names = {\n",
    "    \"AUTO_PUBLICO\": \"auto_public\",\n",
    "    \"AUTO_PARTICULAR\": \"auto_private\",\n",
    "    \"CAM_PAS_PUBLICO\": \"passenger_truck_public\",\n",
    "    \"CAM_PAS_PARTICULAR\": \"passenger_truck_private\",\n",
    "    \"CYC_CARGA_PUBLICO\": \"cargo_public\",\n",
    "    \"CYC_CARGA_PARTICULAR\": \"cargo_private\",\n",
    "    'TOTAL': 'total'\n",
    "}\n"
   ]
  },
  {
   "cell_type": "code",
   "execution_count": 8,
   "id": "5268ac81",
   "metadata": {},
   "outputs": [],
   "source": [
    "df = df.rename(columns=names)"
   ]
  },
  {
   "cell_type": "code",
   "execution_count": 9,
   "id": "e8b81ceb",
   "metadata": {},
   "outputs": [],
   "source": [
    "df.to_parquet('../Data/vizu.parquet')"
   ]
  }
 ],
 "metadata": {
  "kernelspec": {
   "display_name": "vehicle-registrations-forecasting",
   "language": "python",
   "name": "python3"
  },
  "language_info": {
   "codemirror_mode": {
    "name": "ipython",
    "version": 3
   },
   "file_extension": ".py",
   "mimetype": "text/x-python",
   "name": "python",
   "nbconvert_exporter": "python",
   "pygments_lexer": "ipython3",
   "version": "3.13.3"
  }
 },
 "nbformat": 4,
 "nbformat_minor": 5
}
